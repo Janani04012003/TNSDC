{
 "cells": [
  {
   "cell_type": "code",
   "execution_count": 1,
   "id": "fe1d2801",
   "metadata": {},
   "outputs": [
    {
     "name": "stdout",
     "output_type": "stream",
     "text": [
      "Receptionist: Hello! How can I assist you today? (Type 'bye' to exit)\n",
      "You: hello\n",
      "Receptionist: Hello! How can I assist you today?\n",
      "You: bye\n",
      "Receptionist: Goodbye! Have a great day.\n"
     ]
    }
   ],
   "source": [
    "import re\n",
    "import random\n",
    "\n",
    "class ReceptionistChatbot:\n",
    "    def __init__(self):\n",
    "        self.greetings = [\"hello\", \"hi\", \"hey\", \"greetings\"]\n",
    "        self.goodbyes = [\"bye\", \"goodbye\", \"see you later\", \"take care\"]\n",
    "        self.appointments = [\"schedule an appointment\", \"book an appointment\", \"appointment\"]\n",
    "        self.departments = [\"sales\", \"support\", \"billing\"]\n",
    "        self.responses = {\n",
    "            \"greetings\": \"Hello! How can I assist you today?\",\n",
    "            \"goodbye\": \"Goodbye! Have a great day.\",\n",
    "            \"appointment\": \"Sure, would you like to schedule an appointment?\",\n",
    "            \"department\": \"Which department would you like to reach? We have Sales, Support, and Billing.\",\n",
    "            \"fallback\": \"I'm sorry, I didn't understand that. Can you please rephrase?\"\n",
    "        }\n",
    "\n",
    "    def respond_to_input(self, user_input):\n",
    "        user_input = user_input.lower()\n",
    "        if any(greeting in user_input for greeting in self.greetings):\n",
    "            return self.responses[\"greetings\"]\n",
    "        elif any(bye in user_input for bye in self.goodbyes):\n",
    "            return self.responses[\"goodbye\"]\n",
    "        elif any(appointment in user_input for appointment in self.appointments):\n",
    "            return self.responses[\"appointment\"]\n",
    "        elif any(department in user_input for department in self.departments):\n",
    "            return self.responses[\"department\"]\n",
    "        else:\n",
    "            return self.responses[\"fallback\"]\n",
    "\n",
    "# Main function for interacting with the chatbot\n",
    "def main():\n",
    "    chatbot = ReceptionistChatbot()\n",
    "    print(\"Receptionist: Hello! How can I assist you today? (Type 'bye' to exit)\")\n",
    "    while True:\n",
    "        user_input = input(\"You: \")\n",
    "        if user_input.lower() == 'bye':\n",
    "            print(\"Receptionist: Goodbye! Have a great day.\")\n",
    "            break\n",
    "        response = chatbot.respond_to_input(user_input)\n",
    "        print(\"Receptionist:\", response)\n",
    "\n",
    "if __name__ == \"__main__\":\n",
    "    main()\n"
   ]
  }
 ],
 "metadata": {
  "kernelspec": {
   "display_name": "Python 3 (ipykernel)",
   "language": "python",
   "name": "python3"
  },
  "language_info": {
   "codemirror_mode": {
    "name": "ipython",
    "version": 3
   },
   "file_extension": ".py",
   "mimetype": "text/x-python",
   "name": "python",
   "nbconvert_exporter": "python",
   "pygments_lexer": "ipython3",
   "version": "3.9.13"
  }
 },
 "nbformat": 4,
 "nbformat_minor": 5
}
